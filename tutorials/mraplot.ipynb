{
 "cells": [
  {
   "cell_type": "code",
   "execution_count": 3,
   "id": "2d34a731-64f2-4bf8-9a4e-8f9bd3b8309f",
   "metadata": {},
   "outputs": [],
   "source": [
    "import seaborn as sns\n",
    "import pandas as pd\n",
    "import networkx as nx\n",
    "import matplotlib.pyplot as plt\n",
    "import rpy2.robjects.packages as rpackages\n",
    "import rpy2.robjects as robjects\n",
    "from rpy2.robjects import pandas2ri\n",
    "import os\n",
    "import pickle\n",
    "from matplotlib.patches import ArrowStyle\n",
    "import matplotlib.transforms as transforms\n",
    "import numpy as np"
   ]
  },
  {
   "cell_type": "code",
   "execution_count": 4,
   "id": "5d618f50-bbeb-45b4-83e8-2b84139fe5e1",
   "metadata": {},
   "outputs": [],
   "source": [
    "import gseapy as gp"
   ]
  },
  {
   "cell_type": "code",
   "execution_count": 5,
   "id": "70b82445-ce11-48c0-9280-f4778030ed2d",
   "metadata": {},
   "outputs": [],
   "source": [
    "base = rpackages.importr('base')"
   ]
  },
  {
   "cell_type": "code",
   "execution_count": 6,
   "id": "f4c38bd8-2c9c-4ac2-b2c7-6232aefdd816",
   "metadata": {},
   "outputs": [],
   "source": [
    "base.load('~/usrlib/hbtrc_pfc_153_sym-regulon.rda')\n",
    "regulon_pfc = base.mget('regulon')"
   ]
  },
  {
   "cell_type": "code",
   "execution_count": 7,
   "id": "863eeb6a-36ee-404c-8c7a-de353cbd551c",
   "metadata": {},
   "outputs": [],
   "source": [
    "with open('/home/chw_linux/project/scHIV_human/pbulk_mra/pbulk_tstat_1750MR.pickle', 'rb') as handle:\n",
    "    tstat = pickle.load(handle)"
   ]
  },
  {
   "cell_type": "code",
   "execution_count": 8,
   "id": "41a2731e-72ec-42d5-9398-8e5bca6956a2",
   "metadata": {
    "scrolled": true
   },
   "outputs": [],
   "source": [
    "def regulon_r2p(regulon):\n",
    "    # Here regulon is a ListVector with length of number of MRs. Each MR has 2 Lists with tfmode and likelihood of its taragets.\n",
    "    regulon_df = pd.DataFrame(columns=['MR','target','tfmode','likelihood'])\n",
    "    for MR in base.names(regulon):\n",
    "        temp_df = pandas2ri.rpy2py(base.as_data_frame(regulon.rx2[MR]))\n",
    "        temp_df['MR']=MR\n",
    "        temp_df = temp_df.reset_index().rename(columns={'index':'target'})\n",
    "        regulon_df = pd.concat([regulon_df,temp_df],ignore_index=True)\n",
    "    return regulon_df"
   ]
  },
  {
   "cell_type": "code",
   "execution_count": 9,
   "id": "6fe9b875-085f-47f0-ba96-affe211c30b0",
   "metadata": {},
   "outputs": [],
   "source": [
    "def _draw_single_network(MR, regulon, sig, n_targets=12, ax=None):\n",
    "    '''\n",
    "    Note: need to importe networkx and rpy2\n",
    "    MR: name of MR to be ploted\n",
    "    regulon: ListVector (rpy2 object) with tfmode and likelihood or pd.Dataframe with 1st col as MR, 2nd col as target.\n",
    "    tstat: dict of the comparison or pd.Series or pd.DataFrame with 1 column\n",
    "    '''\n",
    "    # type conversion, find targets to show, default number=12 targets with highest tstat\n",
    "    if isinstance(regulon, robjects.vectors.ListVector):\n",
    "        regulon = regulon_r2p(regulon)\n",
    "    if isinstance(regulon, pd.DataFrame):\n",
    "        mr_targets = regulon[regulon['MR']==MR]['target'].values\n",
    "    else:\n",
    "        raise TypeError('The input regulon has to be either rpy2 listvectors or dataframe')\n",
    "\n",
    "    if isinstance(sig,dict):\n",
    "        sig=pd.Series(sig)\n",
    "    elif isinstance(sig,pd.DataFrame):\n",
    "        sig=sig.iloc[:,0]\n",
    "    if isinstance(sig,pd.Series):\n",
    "        sig=sig.iloc[sig.abs().argsort()[::-1]]\n",
    "        all_genes = sig.index\n",
    "    else:\n",
    "        raise TypeError('The input signature need to be dictionary or pd.Series or pd.DataFrame with 1 column')\n",
    "        \n",
    "    exp_targets = set(mr_targets) & set(all_genes)\n",
    "    toshow=[]\n",
    "    for gene in sig.index:\n",
    "        if gene in exp_targets:\n",
    "            toshow.append(gene)\n",
    "            if len(toshow)==n_targets:\n",
    "                break\n",
    "\n",
    "    # build graph\n",
    "    nxG = nx.DiGraph()\n",
    "    nxG.add_nodes_from([MR]+toshow)\n",
    "    nxG.add_edges_from([(MR,target) for target in toshow])\n",
    "    nxG.nodes[MR]['color']='gold'\n",
    "    nxG.nodes[MR]['class']='MR'\n",
    "    for target in toshow:\n",
    "        nxG.nodes[target]['color']='salmon' if sig[target]>0 else 'cornflowerblue'\n",
    "        nxG.nodes[target]['class']='target'\n",
    "    for target in toshow:\n",
    "        nxG.edges[MR,target]['tfmode'] = regulon[(regulon['MR']==MR) & (regulon['target']==target)]['tfmode'].values[0]\n",
    "        nxG.edges[MR,target]['likelihood'] = regulon[(regulon['MR']==MR) & (regulon['target']==target)]['likelihood'].values[0]\n",
    "\n",
    "    #draw graph\n",
    "    if ax is None:\n",
    "        ax=plt.gca()\n",
    "    pos = nx.spring_layout(nxG)\n",
    "    nx.draw_networkx_nodes(nxG, pos=pos, node_color=[node[1]['color'] for node in nxG.nodes.data()], \n",
    "                           node_size=[800 if node[1]['class']=='MR' else 300 for node in nxG.nodes.data()], ax=ax)\n",
    "    nx.draw_networkx_labels(nxG, pos, ax=ax)\n",
    "    for edge in nxG.edges.data():\n",
    "        arrowstyle = ArrowStyle(\"|-|\",widthA=1.0, angleA=90, widthB=1.0, angleB=0) if edge[2]['tfmode']<0 else ArrowStyle(\"-|>\")\n",
    "        edgecolor = 'brown' if edge[2]['tfmode']>0 else 'navy'\n",
    "        nx.draw_networkx_edges(nxG, pos, edgelist=[(edge[0],edge[1])], arrowstyle=arrowstyle, \n",
    "                               width=edge[2]['likelihood']*2, edge_color=edgecolor, ax=ax)\n",
    "    plt.show()\n",
    "    return ax"
   ]
  },
  {
   "cell_type": "code",
   "execution_count": 10,
   "id": "b7a35f18-5e74-468c-993c-2de295934444",
   "metadata": {},
   "outputs": [],
   "source": [
    "def _hits_plot(sig, hits, color=\"brown\", ax=None):\n",
    "    if ax is None:\n",
    "        ax=plt.gca()\n",
    "        ax.figure.set_size_inches(5,1)\n",
    "\n",
    "    trans1 = transforms.blended_transform_factory(ax.transData, ax.transAxes)\n",
    "    ax.vlines([0,len(sig)-1], 0, 1, linewidth=0.5, transform=trans1, color=\"white\", alpha=0)\n",
    "    ax.vlines(hits, 0, 1, linewidth=0.2, transform=trans1, color=color)\n",
    "    ax.tick_params(axis=\"both\", which=\"both\", bottom=False, top=False, right=False, left=False,\n",
    "                       labelbottom=False, labelleft=False, labelsize=12)\n",
    "    return ax"
   ]
  },
  {
   "cell_type": "code",
   "execution_count": 11,
   "id": "c1abbead-413e-4008-86d8-3d459112ec98",
   "metadata": {},
   "outputs": [],
   "source": [
    "def _sig_plot(sig,ax=None):\n",
    "    if ax is None:\n",
    "        ax=plt.gca()\n",
    "        ax.figure.set_size_inches(5,2)\n",
    "    if isinstance(sig,dict):\n",
    "        sig=pd.Series(sig)\n",
    "    elif isinstance(sig,pd.DataFrame):\n",
    "        sig=sig.iloc[:,0]\n",
    "    if not isinstance(sig,pd.Series):\n",
    "        raise TypeError('The input signature need to be dictionary or pd.Series or pd.DataFrame with 1 column')\n",
    "    ax.fill_between(range(len(sig)), y1=sig.sort_values(ascending=False).values, y2=0, color=\"#C9D3DB\")\n",
    "    ax.set_ylabel(\"Ranked metric\", fontsize=8)\n",
    "    ax.tick_params(axis=\"both\", which=\"both\", bottom=False, top=False, right=False, left=True, \n",
    "                       labelbottom=False, labelleft=True, labelsize=10)\n",
    "    return ax"
   ]
  },
  {
   "cell_type": "code",
   "execution_count": 23,
   "id": "858ca9e8-5ca8-47d7-89ae-07811426855b",
   "metadata": {},
   "outputs": [],
   "source": [
    "def _res_plot(results, set1='induced', set2='repressed', color1='red', color2='blue', ax=None):\n",
    "    # result is gsea output.results from gseapy;\n",
    "    if ax is None:\n",
    "        ax=plt.gca()\n",
    "        ax.figure.set_size_inches(5,3)\n",
    "    res_ind = results[set1]['RES']\n",
    "    res_rep = results[set2]['RES']\n",
    "    ax.plot(range(len(res_ind)), res_ind, color='red')\n",
    "    ax.plot(range(len(res_rep)), res_rep, color='blue')\n",
    "    ax.axhline(0, color='grey')\n",
    "    ax.set_ylabel(\"Running Enrichment Score\", fontsize=8)\n",
    "    ax.annotate(f\"NES={results[set1]['nes']:.2f}, Pval={results[set1]['pval']:.2E}\", xy=(1,1), xycoords='axes fraction', \n",
    "                    xytext=(-140, -10), textcoords='offset points', fontsize='medium', color=color1)\n",
    "    ax.annotate(f\"NES={results[set2]['nes']:.2f}, Pval={results[set2]['pval']:.2E}\", xy=(0,0), xycoords='axes fraction', \n",
    "                    xytext=(+0.5, +0.5), textcoords='offset fontsize', fontsize='medium', color=color2)\n",
    "    ax.tick_params(axis=\"both\", which=\"both\", bottom=False, top=False, right=False, left=True, \n",
    "                       labelbottom=False, labelleft=True, labelsize=10)\n",
    "    return ax"
   ]
  },
  {
   "cell_type": "code",
   "execution_count": 13,
   "id": "7d929335-f3f9-48be-a7f7-6f05dfffeb44",
   "metadata": {},
   "outputs": [],
   "source": [
    "def MR_gsea_2way(MR,sig,regulon, n_thread=4, maxsize=2500, seed=2):\n",
    "    '''\n",
    "    Note: need package rpy2, gseapy\n",
    "    tstat: pandas Series\n",
    "    MR: name of MR\n",
    "    regulon: network\n",
    "    '''\n",
    "    #type check and conversion\n",
    "    if isinstance(sig, dict):\n",
    "        sig=pd.Series(sig)\n",
    "    elif isinstance(sig, pd.DataFrame):\n",
    "        sig=sig.iloc[:,0]\n",
    "    if not isinstance(sig, pd.Series):\n",
    "        raise TypeError('The input signature need to be dictionary or pd.Series or pd.DataFrame with 1 column')\n",
    "    if isinstance(regulon, pd.DataFrame):\n",
    "        regulon = regulon_p2r(regulon)\n",
    "    if not isinstance(regulon, robjects.vectors.ListVector):\n",
    "        raise TypeError('The input regulon has to be either rpy2 listvectors or dataframe')\n",
    "\n",
    "    # gsea on two sets\n",
    "    rnk = sig.sort_values(ascending=False)\n",
    "    gene_sets = {'induced': list(base.names(regulon.rx2(MR).rx2('tfmode')).rx(regulon.rx2(MR).rx2('tfmode').ro>0)),\n",
    "             'repressed': list(base.names(regulon.rx2(MR).rx2('tfmode')).rx(regulon.rx2(MR).rx2('tfmode').ro<0))}\n",
    "    pre_res = gp.prerank(rnk=rnk, gene_sets=gene_sets, thread=n_thread, max_size=maxsize, seed=seed) \n",
    "    return pre_res.results"
   ]
  },
  {
   "cell_type": "code",
   "execution_count": 14,
   "id": "d8447077-6e4c-4570-977c-d159ea61ecb5",
   "metadata": {},
   "outputs": [],
   "source": [
    "def regulon_p2r(regulon):\n",
    "    regulon_r=None\n",
    "    for MR in regulon_df['MR'].unique():\n",
    "        tfmode = robjects.FloatVector(regulon_df.loc[regulon_df['MR']==MR,'tfmode'])\n",
    "        tfmode.names = robjects.StrVector(regulon_df.loc[regulon_df['MR']==MR,'target'])\n",
    "        likelihood = robjects.FloatVector(regulon_df.loc[regulon_df['MR']==MR,'likelihood'])\n",
    "        single_net = robjects.ListVector({'tfmode':tfmode,'likelihood':likelihood})\n",
    "        if regulon_r is None:\n",
    "            regulon_r = robjects.ListVector({MR:single_net})\n",
    "        else:\n",
    "            regulon_r.rx2[MR]=single_net\n",
    "    return regulon_r"
   ]
  },
  {
   "cell_type": "code",
   "execution_count": 124,
   "id": "a416e486-a5a1-4532-a5f5-c8d82ee3c186",
   "metadata": {},
   "outputs": [
    {
     "data": {
      "image/png": "[encoded data removed]",
      "text/plain": [
       "<Figure size 500x200 with 1 Axes>"
      ]
     },
     "metadata": {},
     "output_type": "display_data"
    }
   ],
   "source": [
    "ax=_sig_plot(tstat['exc'])"
   ]
  },
  {
   "cell_type": "code",
   "execution_count": 107,
   "id": "126f9113-adfc-4d30-958e-26a8f3a86b5b",
   "metadata": {},
   "outputs": [],
   "source": [
    "hits = np.random.randint(1,len(tstat['exc'])-1,1000)"
   ]
  },
  {
   "cell_type": "code",
   "execution_count": 112,
   "id": "c7c8daba-90ea-4447-b011-27aece87dd36",
   "metadata": {},
   "outputs": [
    {
     "data": {
      "image/png": "[encoded data removed]",
      "text/plain": [
       "<Figure size 500x100 with 1 Axes>"
      ]
     },
     "metadata": {},
     "output_type": "display_data"
    }
   ],
   "source": [
    "ax = _hits_plot(tstat['exc'],hits)"
   ]
  },
  {
   "cell_type": "code",
   "execution_count": 15,
   "id": "d27bbfe2-fb71-41d1-a7b1-2beee89a21f4",
   "metadata": {},
   "outputs": [],
   "source": [
    "results=MR_gsea_2way('NR2E3',tstat['exc'],regulon_pfc[0])"
   ]
  },
  {
   "cell_type": "code",
   "execution_count": 24,
   "id": "92f0fb45-121f-4ffc-a817-3bd951f92b81",
   "metadata": {},
   "outputs": [
    {
     "data": {
      "image/png": "[encoded data removed]",
      "text/plain": [
       "<Figure size 500x300 with 1 Axes>"
      ]
     },
     "metadata": {},
     "output_type": "display_data"
    }
   ],
   "source": [
    "ax = _res_plot(results)"
   ]
  },
  {
   "cell_type": "code",
   "execution_count": 25,
   "id": "fc402992-5469-4f09-a6c9-4fbb2dcf63de",
   "metadata": {},
   "outputs": [],
   "source": [
    "def mraplot(sig, MR=None, regulon=None, gsea_results=None, pos_hits=True, neg_hits=True, sigplot=True, res=True, network=True, order=None, pos_color='red', neg_color='blue', figsize=None):\n",
    "    # default layout: \n",
    "    #   on the left from top to bottom: hits of pos-corr targets, runing enrichment sum, hits of neg-corr targets, signature plot;\n",
    "    #   on the right: network\n",
    "    # gsea_results (optional): the output.results of gseapy prerank with 2 gene set:\"induced\" and \"repressed\". If gsea_results is given\n",
    "    #   and network is False, MR and regulon can be omitted.\n",
    "    # ind_hits, rep_hits, sigplot, res represents hits of pos-corr targets, hits of pos-corr targets, signature plot and runing enrichment sum.\n",
    "    #   They can be set as True (included in the figure, follow default layout or given order), or False (not included in the figure),\n",
    "    #   or 'bottom' (included in the figure and at bottom), or 'top' (included in the figure and at top). \n",
    "    #   If more than one 'bottom' or 'top' are given, it's picked randomly.\n",
    "    # network represents network plot. It can be set as True (included in the figure and on the right), or False (not in Figure), \n",
    "    #   or 'left' (included in the figure and on the left), or 'right' (included in the figure and on the right)\n",
    "    # order (optional) can take a 4-element list specifying the order of the plot on the left. Position 0 to 3 represent the location of pos_hits, res, neg_hits, sig.\n",
    "    #   Default order is [1,2,3,4], the smaller the value is, the higher the plot is. \n",
    "    #   If one plot is ommited, use '' to fill-in the position. For example, [1,2,3,''].\n",
    "    #   If order is given, input from pos_hits, neg_hits, sigplot, res are neglected.\n",
    "    # pos_color and neg_color determine the corresponding color for positive-corr targets and negative-corr targets\n",
    "    # figsize (optional) : (width or width of left panel if network=True, height)\n",
    "\n",
    "    # gsea results\n",
    "    if gsea_results is None:\n",
    "        if MR is None or regulon is None:\n",
    "            raise TypeError('MR, regulon cannot be None when gsea_results is None')\n",
    "        gsea_results = MR_gsea_2way(MR,sig,regulon)\n",
    "    hits_ind = gsea_results['induced']['hits']\n",
    "    hits_rep = gsea_results['repressed']['hits']\n",
    "\n",
    "    # figsize\n",
    "    if figsize is None:\n",
    "        fig_height=5\n",
    "        fig_width=5.5\n",
    "    else:\n",
    "        fig_width,fig_height = figsize\n",
    "\n",
    "    # initiate order if order is not given\n",
    "    if order is None:\n",
    "        order=[1,2,3,4]\n",
    "        for idx,x in enumerate([pos_hits,res,neg_hits,sigplot]):\n",
    "            if x=='bottom':\n",
    "                order[idx]=5\n",
    "            if x=='top':\n",
    "                order[idx]=0\n",
    "            if not x:\n",
    "                order[idx]=''\n",
    "\n",
    "    # obtain number of plots and plot order from 'order'\n",
    "    if len(order)!=4 or (not isinstance(order,list)):\n",
    "        raise TypeError('order has to be a 4-element list.')\n",
    "        \n",
    "    sub_heights = [1,3,1,2]\n",
    "    H=sum(sub_heights)\n",
    "    plt_height=0\n",
    "    n_plots=0\n",
    "    for n in range(4):\n",
    "        if order[n]!='':\n",
    "            plt_height+=sub_heights[n]\n",
    "            n_plots+=1\n",
    "        else:\n",
    "            order[n]=float('-inf')\n",
    "    plt_order = np.array(order).argsort()[::-1]\n",
    "    \n",
    "    height_ratios=[]\n",
    "    ax={}\n",
    "\n",
    "    # make plot if need network plot\n",
    "    if network:\n",
    "        if MR is None or regulon is None:\n",
    "            raise TypeError('MR, regulon cannot be None when network is True') \n",
    "        o2n_ratio = fig_width/(fig_width+plt_height/H*0.8*fig_height)\n",
    "        left_ratio = 0.9*o2n_ratio\n",
    "        fig_width/=o2n_ratio\n",
    "        diy = plt.figure(figsize=(fig_width,fig_height))\n",
    "        for n in range(n_plots):\n",
    "            plt_ind = plt_order[n]\n",
    "            height_ratio = sub_heights[plt_ind]/H*0.8\n",
    "            ax[plt_ind] = diy.add_axes([0.1*o2n_ratio,0.1+sum(height_ratios),left_ratio,height_ratio])\n",
    "            height_ratios.append(height_ratio)\n",
    "            if plt_ind==0:\n",
    "                _hits_plot(sig, hits_ind,color=pos_color, ax=ax[plt_ind])\n",
    "            elif plt_ind==1:\n",
    "                _res_plot(gsea_results, color1=pos_color, color2=neg_color, ax=ax[plt_ind])\n",
    "            elif plt_ind==2:\n",
    "                _hits_plot(sig, hits_rep,color=neg_color, ax=ax[plt_ind])\n",
    "            elif plt_ind==3:\n",
    "                _sig_plot(sig, ax=ax[plt_ind])\n",
    "            if n==0:\n",
    "                ax[plt_ind].tick_params(axis=\"both\", which=\"both\", bottom=True, labelbottom=True, labelsize=10)\n",
    "            elif n==n_plots-1:\n",
    "                ax[plt_ind].set_title(MR)\n",
    "        ax[4] = diy.add_axes([o2n_ratio,0.1,1-o2n_ratio,sum(height_ratios)])\n",
    "        _draw_single_network(MR, regulon, sig, n_targets=12, ax=ax[4])\n",
    "\n",
    "    # make plot if don't need network plot\n",
    "    else:\n",
    "        diy = plt.figure(figsize=(fig_width,fig_height))\n",
    "        for n in range(n_plots):\n",
    "            plt_ind = plt_order[n]\n",
    "            height_ratio = sub_heights[plt_ind]/H*0.8\n",
    "            ax[plt_ind] = diy.add_axes([0.1,0.1+sum(height_ratios),0.9,height_ratio])\n",
    "            height_ratios.append(height_ratio)\n",
    "            if plt_ind==0:\n",
    "                _hits_plot(sig, hits_ind,color=pos_color, ax=ax[plt_ind])\n",
    "            elif plt_ind==1:\n",
    "                _res_plot(gsea_results, color1=pos_color, color2=neg_color, ax=ax[plt_ind])\n",
    "            elif plt_ind==2:\n",
    "                _hits_plot(sig, hits_rep,color=neg_color, ax=ax[plt_ind])\n",
    "            elif plt_ind==3:\n",
    "                _sig_plot(sig, ax=ax[plt_ind])\n",
    "            if n==0:\n",
    "                ax[plt_ind].tick_params(axis=\"both\", which=\"both\", bottom=True, labelbottom=True, labelsize=10)\n",
    "            elif n==n_plots-1:\n",
    "                ax[plt_ind].set_title(MR)\n",
    "    return diy"
   ]
  },
  {
   "cell_type": "code",
   "execution_count": 27,
   "id": "c8a26c19-9027-4470-a20a-49d901eadfa6",
   "metadata": {},
   "outputs": [
    {
     "data": {
      "image/png": "[encoded data removed]",
      "text/plain": [
       "<Figure size 400x300 with 4 Axes>"
      ]
     },
     "metadata": {},
     "output_type": "display_data"
    }
   ],
   "source": [
    "diy =mraplot(tstat['exc'],'NEUROD6',regulon_pfc[0],network=False,figsize=(4,3))"
   ]
  },
  {
   "cell_type": "code",
   "execution_count": null,
   "id": "d0a415a2-89e6-40e7-98b6-542551b6662b",
   "metadata": {},
   "outputs": [],
   "source": []
  }
 ],
 "metadata": {
  "kernelspec": {
   "display_name": "Python 3 (ipykernel)",
   "language": "python",
   "name": "python3"
  },
  "language_info": {
   "codemirror_mode": {
    "name": "ipython",
    "version": 3
   },
   "file_extension": ".py",
   "mimetype": "text/x-python",
   "name": "python",
   "nbconvert_exporter": "python",
   "pygments_lexer": "ipython3",
   "version": "3.10.12"
  }
 },
 "nbformat": 4,
 "nbformat_minor": 5
}
